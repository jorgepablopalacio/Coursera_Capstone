{
 "cells": [
  {
   "cell_type": "markdown",
   "id": "81f07717",
   "metadata": {},
   "source": [
    "# La batalla de los vecindarios\n",
    "## Tienda de café en Buenos Aires"
   ]
  },
  {
   "cell_type": "markdown",
   "id": "73f855dd",
   "metadata": {},
   "source": [
    "### Introducción / Problema comercial"
   ]
  },
  {
   "cell_type": "markdown",
   "id": "4cb0a183",
   "metadata": {},
   "source": [
    "Nuesto cliente es un inversor del área gastronómica, que desea abrir una tienda de café de especialidad en la ciudad de Buenos Aires. La persona en cuestión es un sommelier experto en café, y el público que espera atraer a su negocio es aquel que esté interesado en tomar café de primera calidad en un ambiente relajado. Por lo tanto, desea establecerse en un barrio donde ya haya cafeterías, para captar al público habituado a consumir en ese tipo de locales.\n",
    "El cliente desea que analicemos cada barrio de la ciudad, buscando la cantidad de cafeterías que tiene cada uno y las características de la mismas (popularidad, precio y opiniones de los usuarios)."
   ]
  },
  {
   "cell_type": "markdown",
   "id": "463932c5",
   "metadata": {},
   "source": [
    "### Datos a utilizar"
   ]
  },
  {
   "cell_type": "markdown",
   "id": "dbd59c2c",
   "metadata": {},
   "source": [
    "Se utilizarán las siguientes fuentes de datos para confeccionar el informe:\n",
    "* **Dataset con los barrios de la ciudad de Buenos Aires:** Se utilizará el archivo disponible en https://cdn.buenosaires.gob.ar/datosabiertos/datasets/ministerio-de-educacion/barrios/barrios.geojson. Dado que cada barrio en este archivo es un polígono, se calculará un centroide y un radio para cada uno, que serán los datos de entrada para las consultas de FourSquare.\n",
    "* **FourSquare Place Search:** Se buscarán todas las cafeterías presentes en cada barrio\n",
    "* **FourSquare Get Place Details:** Se buscarán datos de popularidad, precio y rating para cada una de las cafeterías encontradas en el punto anterior.\n"
   ]
  },
  {
   "cell_type": "code",
   "execution_count": null,
   "id": "16969bec",
   "metadata": {},
   "outputs": [],
   "source": []
  }
 ],
 "metadata": {
  "kernelspec": {
   "display_name": "Python 3 (ipykernel)",
   "language": "python",
   "name": "python3"
  },
  "language_info": {
   "codemirror_mode": {
    "name": "ipython",
    "version": 3
   },
   "file_extension": ".py",
   "mimetype": "text/x-python",
   "name": "python",
   "nbconvert_exporter": "python",
   "pygments_lexer": "ipython3",
   "version": "3.8.8"
  }
 },
 "nbformat": 4,
 "nbformat_minor": 5
}
